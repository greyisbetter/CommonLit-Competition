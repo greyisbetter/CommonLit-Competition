{
 "cells": [
  {
   "cell_type": "markdown",
   "id": "f931021d",
   "metadata": {
    "_cell_guid": "b1076dfc-b9ad-4769-8c92-a6c4dae69d19",
    "_uuid": "8f2839f25d086af736a60e9eeb907d3b93b6e0e5",
    "execution": {
     "iopub.execute_input": "2023-08-09T06:40:45.182427Z",
     "iopub.status.busy": "2023-08-09T06:40:45.182036Z",
     "iopub.status.idle": "2023-08-09T06:40:45.216693Z",
     "shell.execute_reply": "2023-08-09T06:40:45.215330Z",
     "shell.execute_reply.started": "2023-08-09T06:40:45.182398Z"
    },
    "papermill": {
     "duration": 0.003824,
     "end_time": "2023-08-09T07:33:24.073671",
     "exception": false,
     "start_time": "2023-08-09T07:33:24.069847",
     "status": "completed"
    },
    "tags": []
   },
   "source": [
    "# Let's take a look at the some observations to understand the prompts and summaries\n",
    "\n",
    "### Our observations will be an example for each `prompt_title` given in train set:\n",
    "- On Tragedy\n",
    "- Egyptian Social Structure\n",
    "- Excerpt from The Jungle\n",
    "- The Third Wave "
   ]
  },
  {
   "cell_type": "code",
   "execution_count": 1,
   "id": "7657ef9b",
   "metadata": {
    "execution": {
     "iopub.execute_input": "2023-08-09T07:33:24.082352Z",
     "iopub.status.busy": "2023-08-09T07:33:24.081719Z",
     "iopub.status.idle": "2023-08-09T07:33:24.091798Z",
     "shell.execute_reply": "2023-08-09T07:33:24.090226Z"
    },
    "papermill": {
     "duration": 0.017441,
     "end_time": "2023-08-09T07:33:24.094462",
     "exception": false,
     "start_time": "2023-08-09T07:33:24.077021",
     "status": "completed"
    },
    "tags": []
   },
   "outputs": [],
   "source": [
    "import pandas as pd"
   ]
  },
  {
   "cell_type": "code",
   "execution_count": 2,
   "id": "3fb5fc5b",
   "metadata": {
    "execution": {
     "iopub.execute_input": "2023-08-09T07:33:24.102756Z",
     "iopub.status.busy": "2023-08-09T07:33:24.101862Z",
     "iopub.status.idle": "2023-08-09T07:33:24.228398Z",
     "shell.execute_reply": "2023-08-09T07:33:24.226646Z"
    },
    "papermill": {
     "duration": 0.133394,
     "end_time": "2023-08-09T07:33:24.230996",
     "exception": false,
     "start_time": "2023-08-09T07:33:24.097602",
     "status": "completed"
    },
    "tags": []
   },
   "outputs": [],
   "source": [
    "summaries = pd.read_csv(\"/kaggle/input/commonlit-evaluate-student-summaries/summaries_train.csv\")\n",
    "prompts = pd.read_csv(\"/kaggle/input/commonlit-evaluate-student-summaries/prompts_train.csv\")"
   ]
  },
  {
   "cell_type": "code",
   "execution_count": 3,
   "id": "415cefcb",
   "metadata": {
    "execution": {
     "iopub.execute_input": "2023-08-09T07:33:24.239687Z",
     "iopub.status.busy": "2023-08-09T07:33:24.238698Z",
     "iopub.status.idle": "2023-08-09T07:33:24.262718Z",
     "shell.execute_reply": "2023-08-09T07:33:24.261565Z"
    },
    "papermill": {
     "duration": 0.031225,
     "end_time": "2023-08-09T07:33:24.265406",
     "exception": false,
     "start_time": "2023-08-09T07:33:24.234181",
     "status": "completed"
    },
    "tags": []
   },
   "outputs": [
    {
     "data": {
      "text/html": [
       "<div>\n",
       "<style scoped>\n",
       "    .dataframe tbody tr th:only-of-type {\n",
       "        vertical-align: middle;\n",
       "    }\n",
       "\n",
       "    .dataframe tbody tr th {\n",
       "        vertical-align: top;\n",
       "    }\n",
       "\n",
       "    .dataframe thead th {\n",
       "        text-align: right;\n",
       "    }\n",
       "</style>\n",
       "<table border=\"1\" class=\"dataframe\">\n",
       "  <thead>\n",
       "    <tr style=\"text-align: right;\">\n",
       "      <th></th>\n",
       "      <th>student_id</th>\n",
       "      <th>prompt_id</th>\n",
       "      <th>text</th>\n",
       "      <th>content</th>\n",
       "      <th>wording</th>\n",
       "    </tr>\n",
       "  </thead>\n",
       "  <tbody>\n",
       "    <tr>\n",
       "      <th>0</th>\n",
       "      <td>000e8c3c7ddb</td>\n",
       "      <td>814d6b</td>\n",
       "      <td>The third wave was an experimentto see how peo...</td>\n",
       "      <td>0.205683</td>\n",
       "      <td>0.380538</td>\n",
       "    </tr>\n",
       "    <tr>\n",
       "      <th>1</th>\n",
       "      <td>0020ae56ffbf</td>\n",
       "      <td>ebad26</td>\n",
       "      <td>They would rub it up with soda to make the sme...</td>\n",
       "      <td>-0.548304</td>\n",
       "      <td>0.506755</td>\n",
       "    </tr>\n",
       "    <tr>\n",
       "      <th>2</th>\n",
       "      <td>004e978e639e</td>\n",
       "      <td>3b9047</td>\n",
       "      <td>In Egypt, there were many occupations and soci...</td>\n",
       "      <td>3.128928</td>\n",
       "      <td>4.231226</td>\n",
       "    </tr>\n",
       "    <tr>\n",
       "      <th>3</th>\n",
       "      <td>005ab0199905</td>\n",
       "      <td>3b9047</td>\n",
       "      <td>The highest class was Pharaohs these people we...</td>\n",
       "      <td>-0.210614</td>\n",
       "      <td>-0.471415</td>\n",
       "    </tr>\n",
       "    <tr>\n",
       "      <th>4</th>\n",
       "      <td>0070c9e7af47</td>\n",
       "      <td>814d6b</td>\n",
       "      <td>The Third Wave developed  rapidly because the ...</td>\n",
       "      <td>3.272894</td>\n",
       "      <td>3.219757</td>\n",
       "    </tr>\n",
       "  </tbody>\n",
       "</table>\n",
       "</div>"
      ],
      "text/plain": [
       "     student_id prompt_id                                               text  \\\n",
       "0  000e8c3c7ddb    814d6b  The third wave was an experimentto see how peo...   \n",
       "1  0020ae56ffbf    ebad26  They would rub it up with soda to make the sme...   \n",
       "2  004e978e639e    3b9047  In Egypt, there were many occupations and soci...   \n",
       "3  005ab0199905    3b9047  The highest class was Pharaohs these people we...   \n",
       "4  0070c9e7af47    814d6b  The Third Wave developed  rapidly because the ...   \n",
       "\n",
       "    content   wording  \n",
       "0  0.205683  0.380538  \n",
       "1 -0.548304  0.506755  \n",
       "2  3.128928  4.231226  \n",
       "3 -0.210614 -0.471415  \n",
       "4  3.272894  3.219757  "
      ]
     },
     "execution_count": 3,
     "metadata": {},
     "output_type": "execute_result"
    }
   ],
   "source": [
    "summaries.head()"
   ]
  },
  {
   "cell_type": "code",
   "execution_count": 4,
   "id": "357e3e0c",
   "metadata": {
    "execution": {
     "iopub.execute_input": "2023-08-09T07:33:24.274381Z",
     "iopub.status.busy": "2023-08-09T07:33:24.273980Z",
     "iopub.status.idle": "2023-08-09T07:33:24.300453Z",
     "shell.execute_reply": "2023-08-09T07:33:24.299522Z"
    },
    "papermill": {
     "duration": 0.033786,
     "end_time": "2023-08-09T07:33:24.303012",
     "exception": false,
     "start_time": "2023-08-09T07:33:24.269226",
     "status": "completed"
    },
    "tags": []
   },
   "outputs": [],
   "source": [
    "students = pd.merge(summaries, prompts, on='prompt_id', how='inner')"
   ]
  },
  {
   "cell_type": "code",
   "execution_count": 5,
   "id": "3efc85fc",
   "metadata": {
    "execution": {
     "iopub.execute_input": "2023-08-09T07:33:24.311438Z",
     "iopub.status.busy": "2023-08-09T07:33:24.311061Z",
     "iopub.status.idle": "2023-08-09T07:33:24.318695Z",
     "shell.execute_reply": "2023-08-09T07:33:24.317546Z"
    },
    "papermill": {
     "duration": 0.014793,
     "end_time": "2023-08-09T07:33:24.321140",
     "exception": false,
     "start_time": "2023-08-09T07:33:24.306347",
     "status": "completed"
    },
    "tags": []
   },
   "outputs": [
    {
     "name": "stdout",
     "output_type": "stream",
     "text": [
      "\u001b[1mprompt_question: \u001b[0m Summarize how the Third Wave developed over such a short period of time and why the experiment was ended.\n",
      "\n",
      "\u001b[1mprompt_title: \u001b[0m The Third Wave\n",
      "\n",
      "\u001b[1mprompt_text: \u001b[0m\n",
      "Background \r\n",
      "The Third Wave experiment took place at Cubberley High School in Palo Alto, California during the first week of April 1967. History teacher Ron Jones, finding himself unable to explain to his students how people throughout history followed the crowd even when terrible things were happening, decided to demonstrate it to his students through an experiment. Jones announced that he was starting a movement aimed to eliminate democracy. Jones named the movement “The Third Wave” as a symbol of strength, referring to the mythical belief that the third in a series of waves is the strongest. One of the central points of this movement was that democracy’s main weakness is that it favors the individual over the whole community. Jones emphasized this main point of the movement when he created this catchy motto: “Strength through discipline, strength through community, strength through action, strength through pride.” \r\n",
      "The Experiment \r\n",
      "Jones started the first day of the experiment emphasizing simple things like proper seating, and drilled the students extensively until they got it right. He then proceeded to enforce strict classroom discipline by emerging as an authoritarian figure. This resulted in dramatic improvements to the efficiency, or orderliness, of the class.  The first day’s session ended with only a few rules. Jones intended it to be a one-day experiment. Students had to be sitting at attention before the second bell, had to stand up to ask or answer questions and had to do it in three words or fewer, and were required to preface each remark with “Mr. Jones.” As the week went on, Jones’ class transformed into a group with a supreme sense of discipline and community. Jones made up a salute resembling that of the Nazi regime and ordered class members to salute each other even outside the class. They all obeyed this command. \r\n",
      "After only three days, the experiment took on a life of its own, with students from all over the school joining in. The class expanded from initial 30 students to 43 attendees. All of the students showed drastic improvement in their academic skills and tremendous motivation. All of the students were issued a member card and each of them received a special assignment, like designing a Third Wave Banner, stopping non-members from entering the class, or other tasks to bring honor to the movement. Jones instructed the students on how to initiate new members, and by the end of the day the movement had over 200 participants. Jones was surprised that some of the students started reporting to him when other members of the movement failed to abide by the rules. \r\n",
      "By the fourth day of the experiment, the students became increasingly involved in the project and their discipline and loyalty to the project was so outstanding that Jones felt it was slipping out of control. He decided to terminate the movement, so he lied to students by announcing that the Third Wave was a part of a nationwide movement and that on the next day a presidential candidate of the movement would publicly announce its existence on television. Jones ordered students to attend a noon rally on Friday to witness the announcement. \r\n",
      "At the end of the week, instead of a televised address of their leader, the students were presented with a blank channel. After a few minutes of waiting, Jones announced that they had been a part of an experiment to demonstrate how people willingly create a sense of superiority over others, and how this can lead people to justify doing horrible things in the name of the state’s honor.\n",
      "\n",
      "\u001b[1msummary: \u001b[0m\n",
      "The third wave was an experimentto see how people reacted to a new one leader government. It gained popularity as people wanted to try new things. The students follow anything that is said and start turning on eachother to gain higher power. They had to stop the experement as too many people got to radical with it blindly following there leader\n"
     ]
    }
   ],
   "source": [
    "def print_observation(obs):\n",
    "    print(\"\\033[1mprompt_question: \\033[0m\", obs.prompt_question)\n",
    "    print()\n",
    "    print(\"\\033[1mprompt_title: \\033[0m\", obs.prompt_title)\n",
    "    print()\n",
    "    print(\"\\033[1mprompt_text: \\033[0m\")\n",
    "    print(obs.prompt_text)\n",
    "    print()\n",
    "    print(\"\\033[1msummary: \\033[0m\")\n",
    "    print(obs.text)\n",
    "    \n",
    "obs_1 = students.iloc[0]\n",
    "print_observation(obs_1)"
   ]
  },
  {
   "cell_type": "code",
   "execution_count": 6,
   "id": "2a9d5c54",
   "metadata": {
    "execution": {
     "iopub.execute_input": "2023-08-09T07:33:24.330435Z",
     "iopub.status.busy": "2023-08-09T07:33:24.329698Z",
     "iopub.status.idle": "2023-08-09T07:33:24.336934Z",
     "shell.execute_reply": "2023-08-09T07:33:24.335111Z"
    },
    "papermill": {
     "duration": 0.015465,
     "end_time": "2023-08-09T07:33:24.340158",
     "exception": false,
     "start_time": "2023-08-09T07:33:24.324693",
     "status": "completed"
    },
    "tags": []
   },
   "outputs": [
    {
     "name": "stdout",
     "output_type": "stream",
     "text": [
      "\u001b[1mprompt_question: \u001b[0m Summarize at least 3 elements of an ideal tragedy, as described by Aristotle.\n",
      "\n",
      "\u001b[1mprompt_title: \u001b[0m On Tragedy\n",
      "\n",
      "\u001b[1mprompt_text: \u001b[0m\n",
      "Chapter 13 \r\n",
      "As the sequel to what has already been said, we must proceed to consider what the poet should aim at, and what he should avoid, in constructing his plots; and by what means the specific effect of Tragedy will be produced. \r\n",
      "A perfect tragedy should, as we have seen, be arranged not on the simple but on the complex plan. It should, moreover, imitate actions which excite pity and fear, this being the distinctive mark of tragic imitation. It follows plainly, in the first place, that the change of fortune presented must not be the spectacle of a virtuous man brought from prosperity to adversity: for this moves neither pity nor fear; it merely shocks us. Nor, again, that of a bad man passing from adversity to prosperity: for nothing can be more alien to the spirit of Tragedy; it possesses no single tragic quality; it neither satisfies the moral sense nor calls forth pity or fear. Nor, again, should the downfall of the utter villain be exhibited. A plot of this kind would, doubtless, satisfy the moral sense, but it would inspire neither pity nor fear; for pity is aroused by unmerited misfortune, fear by the misfortune of a man like ourselves. Such an event, therefore, will be neither pitiful nor terrible. There remains, then, the character between these two extremes — that of a man who is not eminently good and just, yet whose misfortune is brought about not by vice or depravity, but by some error of judgement or frailty. He must be one who is highly renowned and prosperous — a personage like Oedipus, Thyestes, or other illustrious men of such families. \r\n",
      "A well-constructed plot should, therefore, be single in its issue, rather than double as some maintain. The change of fortune should be not from bad to good, but, reversely, from good to bad. It should come about as the result not of vice, but of some great error or frailty, in a character either such as we have described, or better rather than worse. The practice of the stage bears out our view. At first the poets recounted any legend that came in their way. Now, the best tragedies are founded on the story of a few houses — on the fortunes of Alcmaeon, Oedipus, Orestes, Meleager, Thyestes, Telephus, and those others who have done or suffered something terrible. A tragedy, then, to be perfect according to the rules of art, should be of this construction. Hence they are in error who censure Euripides just because he follows this principle in his plays, many of which end unhappily. It is, as we have said, the right ending. The best proof is that on the stage and in dramatic competition, such plays, if well worked out, are the most tragic in effect; and Euripides, faulty though he may be in the general management of his subject, yet is felt to be the most tragic of the poets. \r\n",
      "In the second rank comes the kind of tragedy which some place first. Like the Odyssey, it has a double thread of plot, and also an opposite catastrophe for the good and for the bad. It is accounted the best because of the weakness of the spectators; for the poet is guided in what he writes by the wishes of his audience. The pleasure, however, thence derived is not the true tragic pleasure. It is proper rather to Comedy, where those who, in the piece, are the deadliest enemies — like Orestes and Aegisthus — quit the stage as friends at the close, and no one slays or is slain.\n",
      "\n",
      "\u001b[1msummary: \u001b[0m\n",
      "Aristotle states that an ideal tragedy should have a \"complex plan\" (a well-thought-out plot), \"imitate actions which excite pity and fear\" (present ideas that might evoke certain emotions from the audience), and should only have a \"single... issue\", with the \"change of fortune\" being from \"good to bad\" (or a character's downfall). \n"
     ]
    }
   ],
   "source": [
    "obs_2 = students.iloc[5110]\n",
    "print_observation(obs_2)"
   ]
  },
  {
   "cell_type": "code",
   "execution_count": 7,
   "id": "36aaea67",
   "metadata": {
    "execution": {
     "iopub.execute_input": "2023-08-09T07:33:24.350073Z",
     "iopub.status.busy": "2023-08-09T07:33:24.349369Z",
     "iopub.status.idle": "2023-08-09T07:33:24.355403Z",
     "shell.execute_reply": "2023-08-09T07:33:24.354284Z"
    },
    "papermill": {
     "duration": 0.013938,
     "end_time": "2023-08-09T07:33:24.358247",
     "exception": false,
     "start_time": "2023-08-09T07:33:24.344309",
     "status": "completed"
    },
    "tags": []
   },
   "outputs": [
    {
     "name": "stdout",
     "output_type": "stream",
     "text": [
      "\u001b[1mprompt_question: \u001b[0m In complete sentences, summarize the structure of the ancient Egyptian system of government. How were different social classes involved in this government? Cite evidence from the text.\n",
      "\n",
      "\u001b[1mprompt_title: \u001b[0m Egyptian Social Structure\n",
      "\n",
      "\u001b[1mprompt_text: \u001b[0m\n",
      "Egyptian society was structured like a pyramid. At the top were the gods, such as Ra, Osiris, and Isis. Egyptians believed that the gods controlled the universe. Therefore, it was important to keep them happy. They could make the Nile overflow, cause famine, or even bring death. \r\n",
      "The Egyptians also elevated some human beings to gods. Their leaders, called pharaohs, were believed to be gods in human form. They had absolute power over their subjects. After pharaohs died, huge stone pyramids were built as their tombs. Pharaohs were buried in chambers within the pyramids. \r\n",
      "Because the people of Egypt believed that their pharaohs were gods, they entrusted their rulers with many responsibilities. Protection was at the top of the list. The pharaoh directed the army in case of a foreign threat or an internal conflict. All laws were enacted at the discretion of the pharaoh. Each farmer paid taxes in the form of grains, which were stored in the pharaoh’s warehouses. This grain was used to feed the people in the event of a famine. \r\n",
      "The Chain of Command \r\n",
      "No single person could manage all these duties without assistance. The pharaoh appointed a chief minister called a vizier as a supervisor. The vizier ensured that taxes were collected. \r\n",
      "Working with the vizier were scribes who kept government records. These high-level employees had mastered a rare skill in ancient Egypt — they could read and write. \r\n",
      "Noble Aims \r\n",
      "Right below the pharaoh in status were powerful nobles and priests. Only nobles could hold government posts; in these positions they profited from tributes paid to the pharaoh. Priests were responsible for pleasing the gods. \r\n",
      "Nobles enjoyed great status and also grew wealthy from donations to the gods. All Egyptians—from pharaohs to farmers—gave gifts to the gods. \r\n",
      "Soldier On \r\n",
      "Soldiers fought in wars or quelled domestic uprisings. During long periods of peace, soldiers also supervised the peasants, farmers, and slaves who were involved in building such structures as pyramids and palaces. \r\n",
      "Skilled workers such as physicians and craftsmen/women made up the middle class. Craftsmen made and sold jewelry, pottery, papyrus products, tools, and other useful things. \r\n",
      "Naturally, there were people needed to buy goods from artisans and traders. These were the merchants and storekeepers who sold these goods to the public. \r\n",
      "The Bottom of the Heap \r\n",
      "At the bottom of the social structure were slaves and farmers. Slavery became the fate of those captured as prisoners of war. In addition to being forced to work on building projects, slaves toiled at the discretion of the pharaoh or nobles. \r\n",
      "Farmers tended the fields, raised animals, kept canals and reservoirs in good order, worked in the stone quarries, and built the royal monuments. Farmers paid taxes that could amount to as much as 60% of their yearly harvest—that’s a lot of hay! \r\n",
      "Social mobility was not impossible. A small number of peasants and farmers moved up the economic ladder. Families saved money to send their sons to village schools to learn trades. These schools were run by priests or by artisans. Boys who learned to read and write could become scribes, then go on to gain employment in the government. It was possible for a boy born on a farm to work his way up into the higher ranks of the government. Bureaucracy proved lucrative.\n",
      "\n",
      "\u001b[1msummary: \u001b[0m\n",
      "In Egypt, there were many occupations and social classes involved in day-to-day living. In many instances if you were at the bottom of the social ladder you could climb up, you didn't have to stay a peasant you could work to bring your status up. Everyone worshipped the gods Ra, Osiris, and Isis, but also they would worship their pharaohs like gods as well. Under the pharaohs were the priests, they had the responsibility to entertain or please the said god. The Chain of Command was placed to keep everyone in check, not one person could handle all the civilians and treasures without any aid. Like the tax collector, called a vizier like stated they were in charge of collecting the peoples' tax. They were also one of the rare instances who were able to read and write, that's how they were granted \"vizier\" Also the soldiers did many things as they would fight in wars or \"quelled domestic uprisings\". They were in charge of getting the slaves, farmers, and peasants to build palaces or the famous ancient pyramids. More skilled hardworking workers had occupations of craftsmen or women and physicians. This would mostly make up the middle-class people. The creative craftsmen would often make jewelry, papyrus products, pottery, tools, and many useful things people may need . Of course, you would need merchants to sell the goods to people who would pay for it.\n"
     ]
    }
   ],
   "source": [
    "obs_3 = students.iloc[3099]\n",
    "print_observation(obs_3)"
   ]
  },
  {
   "cell_type": "code",
   "execution_count": 8,
   "id": "232f256a",
   "metadata": {
    "execution": {
     "iopub.execute_input": "2023-08-09T07:33:24.367719Z",
     "iopub.status.busy": "2023-08-09T07:33:24.367347Z",
     "iopub.status.idle": "2023-08-09T07:33:24.373983Z",
     "shell.execute_reply": "2023-08-09T07:33:24.372794Z"
    },
    "papermill": {
     "duration": 0.014624,
     "end_time": "2023-08-09T07:33:24.376671",
     "exception": false,
     "start_time": "2023-08-09T07:33:24.362047",
     "status": "completed"
    },
    "tags": []
   },
   "outputs": [
    {
     "name": "stdout",
     "output_type": "stream",
     "text": [
      "\u001b[1mprompt_question: \u001b[0m Summarize the various ways the factory would use or cover up spoiled meat. Cite evidence in your answer.\n",
      "\n",
      "\u001b[1mprompt_title: \u001b[0m Excerpt from The Jungle\n",
      "\n",
      "\u001b[1mprompt_text: \u001b[0m\n",
      "With one member trimming beef in a cannery, and another working in a sausage factory, the family had a first-hand knowledge of the great majority of Packingtown swindles. For it was the custom, as they found, whenever meat was so spoiled that it could not be used for anything else, either to can it or else to chop it up into sausage. With what had been told them by Jonas, who had worked in the pickle rooms, they could now study the whole of the spoiled-meat industry on the inside, and read a new and grim meaning into that old Packingtown jest—that they use everything of the pig except the squeal. \r\n",
      "Jonas had told them how the meat that was taken out of pickle would often be found sour, and how they would rub it up with soda to take away the smell, and sell it to be eaten on free-lunch counters; also of all the miracles of chemistry which they performed, giving to any sort of meat, fresh or salted, whole or chopped, any color and any flavor and any odor they chose. In the pickling of hams they had an ingenious apparatus, by which they saved time and increased the capacity of the plant—a machine consisting of a hollow needle attached to a pump; by plunging this needle into the meat and working with his foot, a man could fill a ham with pickle in a few seconds. And yet, in spite of this, there would be hams found spoiled, some of them with an odor so bad that a man could hardly bear to be in the room with them. To pump into these the packers had a second and much stronger pickle which destroyed the odor—a process known to the workers as “giving them thirty per cent.” Also, after the hams had been smoked, there would be found some that had gone to the bad. Formerly these had been sold as “Number Three Grade,” but later on some ingenious person had hit upon a new device, and now they would extract the bone, about which the bad part generally lay, and insert in the hole a white-hot iron. After this invention there was no longer Number One, Two, and Three Grade—there was only Number One Grade. The packers were always originating such schemes—they had what they called “boneless hams,” which were all the odds and ends of pork stuffed into casings; and “California hams,” which were the shoulders, with big knuckle joints, and nearly all the meat cut out; and fancy “skinned hams,” which were made of the oldest hogs, whose skins were so heavy and coarse that no one would buy them—that is, until they had been cooked and chopped fine and labeled “head cheese!” \r\n",
      "It was only when the whole ham was spoiled that it came into the department of Elzbieta. Cut up by the two-thousand-revolutions- a-minute flyers, and mixed with half a ton of other meat, no odor that ever was in a ham could make any difference. There was never the least attention paid to what was cut up for sausage; there would come all the way back from Europe old sausage that had been rejected, and that was moldy and white – it would be dosed with borax and glycerin, and dumped into the hoppers, and made over again for home consumption. \r\n",
      "There would be meat that had tumbled out on the floor, in the dirt and sawdust, where the workers had tramped and spit uncounted billions of consumption germs. There would be meat stored in great piles in rooms; and the water from leaky roofs would drip over it, and thousands of rats would race about on it. It was too dark in these storage places to see well, but a man could run his hand over these piles of meat and sweep off handfuls of the dried dung of rats. These rats were nuisances, and the packers would put poisoned bread out for them; they would die, and then rats, bread, and meat would go into the hoppers together. This is no fairy story and no joke; the meat would be shoveled into carts, and the man who did the shoveling would not trouble to lift out a rat even when he saw one – there were things that went into the sausage in comparison with which a poisoned rat was a tidbit. \r\n",
      "There was no place for the men to wash their hands before they ate their dinner, and so they made a practice of washing them in the water that was to be ladled into the sausage. There were the butt-ends of smoked meat, and the scraps of corned beef, and all the odds and ends of the waste of the plants, that would be dumped into old barrels in the cellar and left there. Under the system of rigid economy which the packers enforced, there were some jobs that it only paid to do once in a long time, and among these was the cleaning out of the waste barrels. Every spring they did it; and in the barrels would be dirt and rust and old nails and stale water – and cartload after cartload of it would be taken up and dumped into the hoppers with fresh meat, and sent out to the public's breakfast. Some of it they would make into \"smoked\" sausage – but as the smoking took time, and was therefore expensive, they would call upon their chemistry department, and preserve it with borax and color it with gelatin to make it brown. All of their sausage came out of the same bowl, but when they came to wrap it they would stamp some of it \"special,\" and for this they would charge two cents more a pound.\n",
      "\n",
      "\u001b[1msummary: \u001b[0m\n",
      "They would rub it up with soda to make the smell go away and it wouldnt be a bad smell. Some of the meat would be tossed on the floor where there was sawdust spit of the workers and they would make the meat all over again with the things in it.\n"
     ]
    }
   ],
   "source": [
    "obs_4 = students.iloc[1103]\n",
    "print_observation(obs_4)"
   ]
  }
 ],
 "metadata": {
  "kernelspec": {
   "display_name": "Python 3",
   "language": "python",
   "name": "python3"
  },
  "language_info": {
   "codemirror_mode": {
    "name": "ipython",
    "version": 3
   },
   "file_extension": ".py",
   "mimetype": "text/x-python",
   "name": "python",
   "nbconvert_exporter": "python",
   "pygments_lexer": "ipython3",
   "version": "3.10.12"
  },
  "papermill": {
   "default_parameters": {},
   "duration": 11.549815,
   "end_time": "2023-08-09T07:33:25.303300",
   "environment_variables": {},
   "exception": null,
   "input_path": "__notebook__.ipynb",
   "output_path": "__notebook__.ipynb",
   "parameters": {},
   "start_time": "2023-08-09T07:33:13.753485",
   "version": "2.4.0"
  }
 },
 "nbformat": 4,
 "nbformat_minor": 5
}
